{
 "cells": [
  {
   "cell_type": "markdown",
   "id": "f9b0ce26",
   "metadata": {},
   "source": [
    "💡\n",
    "Question 1\n",
    "\n",
    "Given a singly linked list, delete middle of the linked list. For example, if given linked list is 1->2->3->4->5 then linked list should be modified to 1->2->4->5.If there are even nodes, then there would be two middle nodes, we need to delete the second middle element. For example, if given linked list is 1->2->3->4->5->6 then it should be modified to 1->2->3->5->6.If the input linked list is NULL or has 1 node, then it should return NULL"
   ]
  },
  {
   "cell_type": "code",
   "execution_count": 21,
   "id": "c2787eff",
   "metadata": {},
   "outputs": [],
   "source": [
    "class Node:\n",
    "    def __init__(self, data):\n",
    "        self.data = data\n",
    "        self.next = None\n",
    "        \n",
    "class LinkedList:\n",
    "    def __init__(self):\n",
    "        self.head = None\n",
    "\n",
    "\n",
    "             \n",
    "def delete_middle_node(head):\n",
    "        # Check if the linked list is empty or has only one node\n",
    "        if head is None or head.next is None:\n",
    "            return None\n",
    "\n",
    "        slow_ptr = head\n",
    "        fast_ptr = head\n",
    "        prev_ptr = None\n",
    "\n",
    "        # Move the fast pointer two nodes at a time and the slow pointer one node at a time\n",
    "        while fast_ptr is not None and fast_ptr.next is not None:\n",
    "            fast_ptr = fast_ptr.next.next\n",
    "            prev_ptr = slow_ptr\n",
    "            slow_ptr = slow_ptr.next\n",
    "\n",
    "        # Delete the middle node(s) by updating the next pointer of the previous node\n",
    "        prev_ptr.next = slow_ptr.next\n",
    "\n",
    "        return head\n"
   ]
  },
  {
   "cell_type": "code",
   "execution_count": 22,
   "id": "225b8975",
   "metadata": {},
   "outputs": [
    {
     "name": "stdout",
     "output_type": "stream",
     "text": [
      "Unmodified List:  1 2 3 4 5 6 7 \n",
      "Modified List:  1 2 3 5 6 7 \n"
     ]
    }
   ],
   "source": [
    "LList = LinkedList()\n",
    "LList.head = Node(1)\n",
    "LList.head.next = Node(2)\n",
    "LList.head.next.next = Node(3)\n",
    "LList.head.next.next.next = Node(4)\n",
    "LList.head.next.next.next.next = Node(5)\n",
    "LList.head.next.next.next.next.next = Node(6)\n",
    "LList.head.next.next.next.next.next.next = Node(7)\n",
    "\n",
    "print(\"Unmodified List: \",end = \" \")\n",
    "current = LList.head\n",
    "while current is not None:\n",
    "    print (current.data,end = \" \")\n",
    "    current = current.next\n",
    "print()\n",
    "\n",
    "LList.head = delete_middle_node(LList.head)\n",
    "\n",
    "print(\"Modified List: \",end = \" \")\n",
    "current = LList.head\n",
    "while current is not None:\n",
    "    print (current.data, end = \" \")\n",
    "    current = current.next\n",
    "print()\n"
   ]
  },
  {
   "cell_type": "markdown",
   "id": "c21372aa",
   "metadata": {},
   "source": [
    "<aside>\n",
    "💡 **Question 2**\n",
    "\n",
    "Given a linked list of **N** nodes. The task is to check if the linked list has a loop. Linked list can contain self loop.\n",
    "\n",
    "</aside>"
   ]
  },
  {
   "cell_type": "code",
   "execution_count": 30,
   "id": "44aff727",
   "metadata": {},
   "outputs": [],
   "source": [
    "class Node:\n",
    "    def __init__(self, data):\n",
    "        self.data = data\n",
    "        self.next = None\n",
    "        \n",
    "class LinkedList:\n",
    "    def __init__(self):\n",
    "        self.head = None\n",
    "\n",
    "def has_loop(head):\n",
    "    slow_ptr = head\n",
    "    fast_ptr = head\n",
    "\n",
    "    while fast_ptr is not None and fast_ptr.next is not None:\n",
    "        slow_ptr = slow_ptr.next\n",
    "        fast_ptr = fast_ptr.next.next\n",
    "\n",
    "        # Check if the fast pointer meets the slow pointer\n",
    "        if slow_ptr == fast_ptr:\n",
    "            return True\n",
    "\n",
    "    return False"
   ]
  },
  {
   "cell_type": "code",
   "execution_count": 31,
   "id": "36a4a431",
   "metadata": {},
   "outputs": [
    {
     "name": "stdout",
     "output_type": "stream",
     "text": [
      "List:  1 2 3 4 5 6 7 \n",
      "The linked list does not have a loop.\n"
     ]
    }
   ],
   "source": [
    "LList = LinkedList()\n",
    "LList.head = Node(1)\n",
    "LList.head.next = Node(2)\n",
    "LList.head.next.next = Node(3)\n",
    "LList.head.next.next.next = Node(4)\n",
    "LList.head.next.next.next.next = Node(5)\n",
    "LList.head.next.next.next.next.next = Node(6)\n",
    "LList.head.next.next.next.next.next.next = Node(7)\n",
    "\n",
    "print(\"List: \",end = \" \")\n",
    "current = LList.head\n",
    "while current is not None:\n",
    "    print (current.data,end = \" \")\n",
    "    current = current.next\n",
    "print()\n",
    "\n",
    "has_loop_result = has_loop(LList.head)\n",
    "\n",
    "if has_loop_result:\n",
    "    print(\"The linked list has a loop.\")\n",
    "else:\n",
    "    print(\"The linked list does not have a loop.\")"
   ]
  },
  {
   "cell_type": "markdown",
   "id": "b18411a1",
   "metadata": {},
   "source": [
    "<aside>\n",
    "💡 **Question 3**\n",
    "\n",
    "Given a linked list consisting of **L** nodes and given a number **N**. The task is to find the **N**th node from the end of the linked list.\n",
    "\n",
    "</aside>"
   ]
  },
  {
   "cell_type": "code",
   "execution_count": 34,
   "id": "1c9161da",
   "metadata": {},
   "outputs": [],
   "source": [
    "class Node:\n",
    "    def __init__(self, data):\n",
    "        self.data = data\n",
    "        self.next = None\n",
    "\n",
    "class LinkedList:\n",
    "    def __init__(self):\n",
    "        self.head = None\n",
    "        \n",
    "def find_nth_from_end(head, n):\n",
    "    slow_ptr = head\n",
    "    fast_ptr = head\n",
    "\n",
    "    # Move the fast pointer N nodes ahead\n",
    "    for i in range(n):\n",
    "        if fast_ptr is None:\n",
    "            return None  # Handle the case where N is greater than the length of the linked list\n",
    "        fast_ptr = fast_ptr.next\n",
    "\n",
    "    # Move both pointers until the fast pointer reaches the end\n",
    "    while fast_ptr is not None:\n",
    "        slow_ptr = slow_ptr.next\n",
    "        fast_ptr = fast_ptr.next\n",
    "\n",
    "    return slow_ptr"
   ]
  },
  {
   "cell_type": "code",
   "execution_count": 46,
   "id": "548961e1",
   "metadata": {},
   "outputs": [
    {
     "name": "stdout",
     "output_type": "stream",
     "text": [
      "List:  1 2 3 4 5 6 7 \n",
      "The 4th node from the end is: 4\n"
     ]
    }
   ],
   "source": [
    "LList = LinkedList()\n",
    "LList.head = Node(1)\n",
    "LList.head.next = Node(2)\n",
    "LList.head.next.next = Node(3)\n",
    "LList.head.next.next.next = Node(4)\n",
    "LList.head.next.next.next.next = Node(5)\n",
    "LList.head.next.next.next.next.next = Node(6)\n",
    "LList.head.next.next.next.next.next.next = Node(7)\n",
    "\n",
    "print(\"List: \",end = \" \")\n",
    "\n",
    "current = LList.head\n",
    "while current is not None:\n",
    "    print(current.data, end = \" \")\n",
    "    current = current.next\n",
    "print()\n",
    "n = 4\n",
    "nth_node = find_nth_from_end(LList.head, n)\n",
    "\n",
    "if nth_node is None:\n",
    "    print(\"Invalid value of N.\")\n",
    "else:\n",
    "    print(f\"The {n}th node from the end is:\", nth_node.data)"
   ]
  },
  {
   "cell_type": "markdown",
   "id": "0170fa19",
   "metadata": {},
   "source": [
    "<aside>\n",
    "💡 **Question 4**\n",
    "\n",
    "Given a singly linked list of characters, write a function that returns true if the given list is a palindrome, else false.\n",
    "\n",
    "</aside>"
   ]
  },
  {
   "cell_type": "code",
   "execution_count": 3,
   "id": "3674c42f",
   "metadata": {},
   "outputs": [],
   "source": [
    "class Node:\n",
    "    def __init__(self, data):\n",
    "        self.data = data\n",
    "        self.next = None\n",
    "\n",
    "class LinkedList:\n",
    "    def __init__(self):\n",
    "        self.head = None\n",
    "\n",
    "\n",
    "def is_palindrome(head):\n",
    "    # Store characters in a list or stack\n",
    "    chars = []\n",
    "    current = head\n",
    "    while current is not None:\n",
    "        chars.append(current.data)\n",
    "        current = current.next\n",
    "\n",
    "    left = 0\n",
    "    right = len(chars) - 1\n",
    "\n",
    "    while left < right:\n",
    "        if chars[left] != chars[right]:\n",
    "            return False\n",
    "        left += 1\n",
    "        right -= 1\n",
    "\n",
    "    return True\n"
   ]
  },
  {
   "cell_type": "code",
   "execution_count": 4,
   "id": "59151a24",
   "metadata": {},
   "outputs": [
    {
     "name": "stdout",
     "output_type": "stream",
     "text": [
      "Yes this is palindrome\n"
     ]
    }
   ],
   "source": [
    "LList = LinkedList()\n",
    "LList.head = Node('r')\n",
    "LList.head.next = Node('a')\n",
    "LList.head.next.next = Node('d')\n",
    "LList.head.next.next.next = Node('a')\n",
    "LList.head.next.next.next.next = Node('r')\n",
    "\n",
    "palindrome = is_palindrome(LList.head)\n",
    "if palindrome:\n",
    "    print(\"Yes this is palindrome\")\n",
    "else:\n",
    "    print(\"No not palindrome\")"
   ]
  },
  {
   "cell_type": "markdown",
   "id": "f5495c9c",
   "metadata": {},
   "source": [
    "<aside>\n",
    "💡 **Question 5**\n",
    "\n",
    "Given a linked list of **N** nodes such that it may contain a loop.\n",
    "\n",
    "A loop here means that the last node of the link list is connected to the node at position X(1-based index). If the link list does not have any loop, X=0.\n",
    "\n",
    "Remove the loop from the linked list, if it is present, i.e. unlink the last node which is forming the loop.\n",
    "\n",
    "</aside>"
   ]
  },
  {
   "cell_type": "code",
   "execution_count": 5,
   "id": "727bb790",
   "metadata": {},
   "outputs": [],
   "source": [
    "class Node:\n",
    "    def __init__(self, data):\n",
    "        self.data = data\n",
    "        self.next = None\n",
    "\n",
    "class LinkedList:\n",
    "    def __init__(self):\n",
    "        self.head = None\n",
    "        \n",
    "def detect_and_remove_loop(head):\n",
    "    slow_ptr = head\n",
    "    fast_ptr = head\n",
    "\n",
    "    # Detect the loop using Floyd's cycle-finding algorithm\n",
    "    while fast_ptr is not None and fast_ptr.next is not None:\n",
    "        slow_ptr = slow_ptr.next\n",
    "        fast_ptr = fast_ptr.next.next\n",
    "\n",
    "        if slow_ptr == fast_ptr:\n",
    "            break\n",
    "\n",
    "    # If there is no loop, return the original linked list\n",
    "    if fast_ptr is None or fast_ptr.next is None:\n",
    "        return head\n",
    "\n",
    "    # Reset either the fast pointer or slow pointer to the head\n",
    "    slow_ptr = head\n",
    "\n",
    "    # Move both pointers one step at a time until they meet again\n",
    "    while slow_ptr.next != fast_ptr.next:\n",
    "        slow_ptr = slow_ptr.next\n",
    "        fast_ptr = fast_ptr.next\n",
    "\n",
    "    # Remove the loop by setting the next pointer of the node where the pointers meet to None\n",
    "    fast_ptr.next = None\n",
    "\n",
    "    return head"
   ]
  },
  {
   "cell_type": "code",
   "execution_count": 14,
   "id": "99df027a",
   "metadata": {},
   "outputs": [
    {
     "name": "stdout",
     "output_type": "stream",
     "text": [
      "1 2 3 4 5 "
     ]
    }
   ],
   "source": [
    "LList = LinkedList()\n",
    "LList.head = Node(1)\n",
    "LList.head.next = Node(2)\n",
    "LList.head.next.next = Node(3)\n",
    "LList.head.next.next.next = Node(4)\n",
    "LList.head.next.next.next.next = Node(5)\n",
    "LList.head.next.next.next.next.next = LList.head.next\n",
    "\n",
    "# Remove the loop from the linked list\n",
    "LList.head = detect_and_remove_loop(LList.head)\n",
    "\n",
    "# Print the modified linked list\n",
    "current = LList.head\n",
    "while current is not None:\n",
    "    print(current.data, end=\" \")\n",
    "    current = current.next"
   ]
  },
  {
   "cell_type": "markdown",
   "id": "f02c455f",
   "metadata": {},
   "source": [
    "<aside>\n",
    "💡 **Question 6**\n",
    "\n",
    "Given a linked list and two integers M and N. Traverse the linked list such that you retain M nodes then delete next N nodes, continue the same till end of the linked list.\n",
    "\n",
    "Difficulty Level: Rookie\n",
    "\n",
    "</aside>"
   ]
  },
  {
   "cell_type": "code",
   "execution_count": 15,
   "id": "50a07626",
   "metadata": {},
   "outputs": [],
   "source": [
    "class Node:\n",
    "    def __init__(self, data):\n",
    "        self.data = data\n",
    "        self.next = None\n",
    "\n",
    "class LinkedList:\n",
    "    def __init__(self):\n",
    "        self.head = None\n",
    "        \n",
    "def retain_delete(head, M, N):\n",
    "    if not head or M <= 0 or N <= 0:\n",
    "        return head\n",
    "\n",
    "    current = head\n",
    "\n",
    "    while current:\n",
    "        # Traverse M nodes\n",
    "        for _ in range(M - 1):\n",
    "            if current.next:\n",
    "                current = current.next\n",
    "            else:\n",
    "                return head\n",
    "\n",
    "        # Delete N nodes\n",
    "        temp = current.next\n",
    "        for _ in range(N):\n",
    "            if temp:\n",
    "                temp = temp.next\n",
    "            else:\n",
    "                current.next = None\n",
    "                return head\n",
    "\n",
    "        current.next = temp\n",
    "        current = temp\n",
    "\n",
    "    return head"
   ]
  },
  {
   "cell_type": "code",
   "execution_count": 17,
   "id": "ca1e4855",
   "metadata": {},
   "outputs": [
    {
     "name": "stdout",
     "output_type": "stream",
     "text": [
      "1 2 6 7 11 12 16 17 "
     ]
    }
   ],
   "source": [
    "# Create a linked list:\n",
    "LList = LinkedList()\n",
    "LList.head = Node(1)\n",
    "current = LList.head\n",
    "for i in range(2, 21):\n",
    "    current.next = Node(i)\n",
    "    current = current.next\n",
    "\n",
    "M = 2  # Retain 2 nodes\n",
    "N = 3  # Delete the next 3 nodes\n",
    "\n",
    "# Retain M nodes and delete the next N nodes\n",
    "LList.head = retain_delete(LList.head, M, N)\n",
    "\n",
    "# Print the modified linked list\n",
    "current = LList.head\n",
    "while current is not None:\n",
    "    print(current.data, end=\" \")\n",
    "    current = current.next\n"
   ]
  },
  {
   "cell_type": "markdown",
   "id": "4eee1f07",
   "metadata": {},
   "source": [
    "<aside>\n",
    "💡 **Question 7**\n",
    "\n",
    "Given two linked lists, insert nodes of second list into first list at alternate positions of first list.\n",
    "For example, if first list is 5->7->17->13->11 and second is 12->10->2->4->6, the first list should become 5->12->7->10->17->2->13->4->11->6 and second list should become empty. The nodes of second list should only be inserted when there are positions available. For example, if the first list is 1->2->3 and second list is 4->5->6->7->8, then first list should become 1->4->2->5->3->6 and second list to 7->8.\n",
    "\n",
    "Use of extra space is not allowed (Not allowed to create additional nodes), i.e., insertion must be done in-place. Expected time complexity is O(n) where n is number of nodes in first list.\n",
    "\n",
    "</aside>"
   ]
  },
  {
   "cell_type": "code",
   "execution_count": 23,
   "id": "0a75fe94",
   "metadata": {},
   "outputs": [],
   "source": [
    "class Node:\n",
    "    def __init__(self, data):\n",
    "        self.data = data\n",
    "        self.next = None\n",
    "\n",
    "class LinkedList:\n",
    "    def __init__(self):\n",
    "        self.head = None\n",
    "        \n",
    "def insert_alternate(first, second):\n",
    "    if not second:\n",
    "        return first\n",
    "\n",
    "    if not first:\n",
    "        return second\n",
    "\n",
    "    current_first = first\n",
    "    current_second = second\n",
    "\n",
    "    while current_first and current_second:\n",
    "        next_first = current_first.next\n",
    "        next_second = current_second.next\n",
    "\n",
    "        current_first.next = current_second\n",
    "        current_second.next = next_first\n",
    "\n",
    "        current_first = next_first\n",
    "        current_second = next_second\n",
    "\n",
    "    return first,current_second"
   ]
  },
  {
   "cell_type": "code",
   "execution_count": 24,
   "id": "15346f8e",
   "metadata": {},
   "outputs": [
    {
     "name": "stdout",
     "output_type": "stream",
     "text": [
      "1 -> 4 -> 2 -> 5 -> 3 -> 6 -> None\n",
      "7 -> 8 -> 9 -> 10 -> None\n"
     ]
    }
   ],
   "source": [
    "LL1 = LinkedList()\n",
    "LL2 = LinkedList()\n",
    "\n",
    "LL1.head = Node(1)\n",
    "LL1.head.next = Node(2)\n",
    "LL1.head.next.next = Node(3)\n",
    "\n",
    "LL2.head = Node(4)\n",
    "current = LL2.head\n",
    "for i in range(5,11):\n",
    "    current.next = Node(i)\n",
    "    current = current.next\n",
    "    \n",
    "# Insert nodes from the second list into the first list at alternate positions\n",
    "LL1.head, LL2.head = insert_alternate(LL1.head, LL2.head)\n",
    "\n",
    "# Print the modified first list\n",
    "current = LL1.head\n",
    "while current is not None:\n",
    "    print(current.data, end=\" -> \")\n",
    "    current = current.next\n",
    "print(\"None\")\n",
    "\n",
    "# Print the remaining nodes in the second list\n",
    "current = LL2.head\n",
    "while current is not None:\n",
    "    print(current.data, end=\" -> \")\n",
    "    current = current.next\n",
    "print(\"None\")"
   ]
  },
  {
   "cell_type": "markdown",
   "id": "b50ab8f5",
   "metadata": {},
   "source": [
    "<aside>\n",
    "💡 **Question 8**\n",
    "\n",
    "Given a singly linked list, find if the linked list is [circular](https://www.geeksforgeeks.org/circular-linked-list/amp/) or not.\n",
    "\n",
    "> A linked list is called circular if it is not NULL-terminated and all nodes are connected in the form of a cycle. Below is an example of a circular linked list.\n",
    "> \n",
    "</aside>"
   ]
  },
  {
   "cell_type": "code",
   "execution_count": 25,
   "id": "aef5505b",
   "metadata": {},
   "outputs": [],
   "source": [
    "class Node:\n",
    "    def __init__(self, data):\n",
    "        self.data = data\n",
    "        self.next = None\n",
    "\n",
    "class LinkedList:\n",
    "    def __init__(self):\n",
    "        self.head = None\n",
    "\n",
    "def is_circular(head):\n",
    "    if not head or not head.next:\n",
    "        return False\n",
    "\n",
    "    slow = head\n",
    "    fast = head.next\n",
    "\n",
    "    while fast and fast.next:\n",
    "        if slow == fast:\n",
    "            return True\n",
    "\n",
    "        slow = slow.next\n",
    "        fast = fast.next.next\n",
    "\n",
    "    return False"
   ]
  },
  {
   "cell_type": "code",
   "execution_count": 26,
   "id": "3a30f02c",
   "metadata": {},
   "outputs": [
    {
     "name": "stdout",
     "output_type": "stream",
     "text": [
      "The linked list is circular\n"
     ]
    }
   ],
   "source": [
    "# Create a circular linked list: 1 -> 2 -> 3 -> 4 -> 5 -> 2\n",
    "LList = LinkedList()\n",
    "LList.head = Node(1)\n",
    "LList.head.next = Node(2)\n",
    "LList.head.next.next = Node(3)\n",
    "LList.head.next.next.next = Node(4)\n",
    "LList.head.next.next.next.next = Node(5)\n",
    "LList.head.next.next.next.next.next = LList.head.next\n",
    "\n",
    "# Check if the linked list is circular\n",
    "circular = is_circular(LList.head)\n",
    "if circular:\n",
    "    print(\"The linked list is circular\")\n",
    "else:\n",
    "    print(\"The linked list is not circular\")\n"
   ]
  },
  {
   "cell_type": "code",
   "execution_count": null,
   "id": "79f1d46b",
   "metadata": {},
   "outputs": [],
   "source": []
  }
 ],
 "metadata": {
  "kernelspec": {
   "display_name": "Python 3 (ipykernel)",
   "language": "python",
   "name": "python3"
  },
  "language_info": {
   "codemirror_mode": {
    "name": "ipython",
    "version": 3
   },
   "file_extension": ".py",
   "mimetype": "text/x-python",
   "name": "python",
   "nbconvert_exporter": "python",
   "pygments_lexer": "ipython3",
   "version": "3.9.12"
  }
 },
 "nbformat": 4,
 "nbformat_minor": 5
}
