{
 "cells": [
  {
   "cell_type": "markdown",
   "id": "7cee702f",
   "metadata": {},
   "source": [
    "<aside>\n",
    "💡 **Question 1**\n",
    "\n",
    "Given two linked list of the same size, the task is to create a new linked list using those linked lists. The condition is that the greater node among both linked list will be added to the new linked list.\n",
    "\n",
    "</aside>"
   ]
  },
  {
   "cell_type": "code",
   "execution_count": 11,
   "id": "929d6394",
   "metadata": {},
   "outputs": [],
   "source": [
    "class Node:\n",
    "    def __init__(self,data):\n",
    "        self.data = data\n",
    "        self.next = None\n",
    "        \n",
    "class LinkedList:\n",
    "    def __init__(self):\n",
    "        self.head = None\n",
    "\n",
    "def newList(list1, list2):\n",
    "    newListHead = None\n",
    "    current = None\n",
    "\n",
    "    while list1 is not None and list2 is not None:\n",
    "        if list1.data >= list2.data:\n",
    "            newNode = Node(list1.data)\n",
    "            list1 = list1.next\n",
    "        else:\n",
    "            newNode = Node(list2.data)\n",
    "            list2 = list2.next\n",
    "\n",
    "        if newListHead is None:\n",
    "            newListHead = newNode\n",
    "            current = newNode\n",
    "        else:\n",
    "            current.next = newNode\n",
    "            current = newNode\n",
    "\n",
    "    return newListHead\n"
   ]
  },
  {
   "cell_type": "code",
   "execution_count": 12,
   "id": "296c2008",
   "metadata": {},
   "outputs": [
    {
     "name": "stdout",
     "output_type": "stream",
     "text": [
      "3 4 2 9 5 "
     ]
    }
   ],
   "source": [
    "LList = LinkedList()\n",
    "LList.head = Node(1)\n",
    "LList.head.next = Node(2)\n",
    "LList.head.next.next = Node(3)\n",
    "LList.head.next.next.next = Node(4)\n",
    "LList.head.next.next.next.next = Node(5)\n",
    "\n",
    "LList1 = LinkedList()\n",
    "LList1.head = Node(3)\n",
    "LList1.head.next = Node(4)\n",
    "LList1.head.next.next = Node(2)\n",
    "LList1.head.next.next.next = Node(9)\n",
    "LList1.head.next.next.next.next = Node(5)\n",
    "\n",
    "# Creating the new linked list\n",
    "newL = newList(LList.head, LList1.head)\n",
    "\n",
    "# Printing the elements of the new linked list\n",
    "current = newL\n",
    "while current is not None:\n",
    "    print(current.data, end=\" \")\n",
    "    current = current.next"
   ]
  },
  {
   "cell_type": "markdown",
   "id": "478f0c11",
   "metadata": {},
   "source": [
    "<aside>\n",
    "💡 **Question 2**\n",
    "\n",
    "Write a function that takes a list sorted in non-decreasing order and deletes any duplicate nodes from the list. The list should only be traversed once.\n",
    "\n",
    "For example if the linked list is 11->11->11->21->43->43->60 then removeDuplicates() should convert the list to 11->21->43->60.\n",
    "\n",
    "</aside>"
   ]
  },
  {
   "cell_type": "code",
   "execution_count": 13,
   "id": "df83feb7",
   "metadata": {},
   "outputs": [],
   "source": [
    "class Node:\n",
    "    def __init__(self,data):\n",
    "        self.data = data\n",
    "        self.next = None\n",
    "        \n",
    "class LinkedList:\n",
    "    def __init__(self):\n",
    "        self.head = None\n",
    "\n",
    "def removeDuplicates(head):\n",
    "    # Handle empty list or single node list\n",
    "    if head is None or head.next is None:\n",
    "        return head\n",
    "\n",
    "    current = head\n",
    "    while current.next is not None:\n",
    "        if current.data == current.next.data:\n",
    "            current.next = current.next.next\n",
    "        else:\n",
    "            current = current.next\n",
    "\n",
    "    return head\n"
   ]
  },
  {
   "cell_type": "code",
   "execution_count": 14,
   "id": "3882eaff",
   "metadata": {},
   "outputs": [
    {
     "name": "stdout",
     "output_type": "stream",
     "text": [
      "11 21 43 60 "
     ]
    }
   ],
   "source": [
    "LList = LinkedList()\n",
    "LList.head = Node(11)\n",
    "LList.head.next = Node(11)\n",
    "LList.head.next.next = Node(11)\n",
    "LList.head.next.next.next = Node(21)\n",
    "LList.head.next.next.next.next = Node(43)\n",
    "LList.head.next.next.next.next.next = Node(43)\n",
    "LList.head.next.next.next.next.next.next = Node(60)\n",
    "\n",
    "LList.head = removeDuplicates(LList.head)\n",
    "\n",
    "current = LList.head\n",
    "while current is not None:\n",
    "    print(current.data, end=\" \")\n",
    "    current = current.next"
   ]
  },
  {
   "cell_type": "markdown",
   "id": "022c7601",
   "metadata": {},
   "source": [
    "<aside>\n",
    "💡 **Question 3**\n",
    "\n",
    "Given a linked list of size **N**. The task is to reverse every **k** nodes (where k is an input to the function) in the linked list. If the number of nodes is not a multiple of *k* then left-out nodes, in the end, should be considered as a group and must be reversed (See Example 2 for clarification).\n",
    "\n",
    "</aside>"
   ]
  },
  {
   "cell_type": "code",
   "execution_count": 15,
   "id": "f37bc7a1",
   "metadata": {},
   "outputs": [],
   "source": [
    "class Node:\n",
    "    def __init__(self,data):\n",
    "        self.data = data\n",
    "        self.next = None\n",
    "        \n",
    "class LinkedList:\n",
    "    def __init__(self):\n",
    "        self.head = None\n",
    "        \n",
    "def reverseKNodes(head, k):\n",
    "    # Handle empty list or single node list\n",
    "    if head is None or head.next is None or k == 1:\n",
    "        return head\n",
    "\n",
    "    current = head\n",
    "    prev = None\n",
    "    next = None\n",
    "    count = 0\n",
    "\n",
    "    # Reverse the first k nodes\n",
    "    while current is not None and count < k:\n",
    "        next = current.next\n",
    "        current.next = prev\n",
    "        prev = current\n",
    "        current = next\n",
    "        count += 1\n",
    "\n",
    "    # Recursively reverse the remaining groups of k nodes\n",
    "    if next is not None:\n",
    "        head.next = reverseKNodes(next, k)\n",
    "\n",
    "    return prev"
   ]
  },
  {
   "cell_type": "code",
   "execution_count": 17,
   "id": "6d949791",
   "metadata": {},
   "outputs": [
    {
     "name": "stdout",
     "output_type": "stream",
     "text": [
      "3 2 1 6 5 4 8 7 "
     ]
    }
   ],
   "source": [
    "LList = LinkedList()\n",
    "LList.head = Node(1)\n",
    "LList.head.next = Node(2)\n",
    "LList.head.next.next = Node(3)\n",
    "LList.head.next.next.next = Node(4)\n",
    "LList.head.next.next.next.next = Node(5)\n",
    "LList.head.next.next.next.next.next = Node(6)\n",
    "LList.head.next.next.next.next.next.next = Node(7)\n",
    "LList.head.next.next.next.next.next.next.next = Node(8)\n",
    "\n",
    "k = 3\n",
    "LList.head = reverseKNodes(LList.head, k)\n",
    "\n",
    "# Printing the reversed linked list\n",
    "current = LList.head\n",
    "while current is not None:\n",
    "    print(current.data, end=\" \")\n",
    "    current = current.next\n",
    "\n",
    "# Output: 3 2 1 6 5 4 7 8\n"
   ]
  },
  {
   "cell_type": "markdown",
   "id": "570d6e25",
   "metadata": {},
   "source": [
    "<aside>\n",
    "💡 **Question 4**\n",
    "\n",
    "Given a linked list, write a function to reverse every alternate k nodes (where k is an input to the function) in an efficient way. Give the complexity of your algorithm.\n",
    "\n",
    "</aside>"
   ]
  },
  {
   "cell_type": "code",
   "execution_count": 28,
   "id": "b77004c4",
   "metadata": {},
   "outputs": [],
   "source": [
    "class Node:\n",
    "    def __init__(self,data):\n",
    "        self.data = data\n",
    "        self.next = None\n",
    "        \n",
    "class LinkedList:\n",
    "    def __init__(self):\n",
    "        self.head = None\n",
    "\n",
    "def reverseAlternateKNodes(head, k):\n",
    "    if head is None or head.next is None or k == 1:\n",
    "        return head\n",
    "\n",
    "    current = head\n",
    "    prev = None\n",
    "    next = None\n",
    "    count = 0\n",
    "    reverse = True\n",
    "\n",
    "    # Reverse alternate groups of k nodes\n",
    "    while current is not None and count < k:\n",
    "        next = current.next\n",
    "        if reverse:\n",
    "            current.next = prev\n",
    "        prev = current\n",
    "        current = next\n",
    "        count += 1\n",
    "\n",
    "    if reverse:\n",
    "        head.next = reverseAlternateKNodes(current, k)\n",
    "        return prev\n",
    "    else:\n",
    "        prev.next = reverseAlternateKNodes(current, k)\n",
    "        return head"
   ]
  },
  {
   "cell_type": "code",
   "execution_count": 30,
   "id": "a0d01cf0",
   "metadata": {},
   "outputs": [
    {
     "name": "stdout",
     "output_type": "stream",
     "text": [
      "3 2 1 6 5 4 8 7 "
     ]
    }
   ],
   "source": [
    "LList = LinkedList()\n",
    "LList.head = Node(1)\n",
    "LList.head.next = Node(2)\n",
    "LList.head.next.next = Node(3)\n",
    "LList.head.next.next.next = Node(4)\n",
    "LList.head.next.next.next.next = Node(5)\n",
    "LList.head.next.next.next.next.next = Node(6)\n",
    "LList.head.next.next.next.next.next.next = Node(7)\n",
    "LList.head.next.next.next.next.next.next.next = Node(8)\n",
    "\n",
    "# Reversing every alternate 3 nodes in the linked list\n",
    "k = 3\n",
    "LList.head = reverseAlternateKNodes(LList.head, k)\n",
    "\n",
    "# Printing the reversed linked list\n",
    "current1 = LList.head\n",
    "while current1 is not None:\n",
    "    print(current1.data, end=\" \")\n",
    "    current1 = current1.next"
   ]
  },
  {
   "cell_type": "markdown",
   "id": "a5a09f5c",
   "metadata": {},
   "source": [
    "<aside>\n",
    "💡 **Question 5**\n",
    "\n",
    "Given a linked list and a key to be deleted. Delete last occurrence of key from linked. The list may have duplicates.\n",
    "\n",
    "</aside>"
   ]
  },
  {
   "cell_type": "code",
   "execution_count": 39,
   "id": "73e1134f",
   "metadata": {},
   "outputs": [],
   "source": [
    "class Node:\n",
    "    def __init__(self,data):\n",
    "        self.data = data\n",
    "        self.next = None\n",
    "        \n",
    "class LinkedList:\n",
    "    def __init__(self):\n",
    "        self.head = None\n",
    "\n",
    "def deleteLastOccurrence(head, key):\n",
    "    if head is None:\n",
    "        return None\n",
    "\n",
    "    last = None\n",
    "    current = head\n",
    "    prev = None\n",
    "    prevLast = None\n",
    "\n",
    "    while current is not None:\n",
    "        if current.data == key:\n",
    "            last = current\n",
    "            prevLast = prev\n",
    "        prev = current\n",
    "        current = current.next\n",
    "\n",
    "    if last is None:\n",
    "        return head\n",
    "\n",
    "    if prevLast is None:\n",
    "        head = head.next\n",
    "    else:\n",
    "        prevLast.next = last.next\n",
    "\n",
    "    return head"
   ]
  },
  {
   "cell_type": "code",
   "execution_count": 40,
   "id": "59f07183",
   "metadata": {},
   "outputs": [
    {
     "name": "stdout",
     "output_type": "stream",
     "text": [
      "1 2 3 2 4 5 "
     ]
    }
   ],
   "source": [
    "LList = LinkedList()\n",
    "LList.head = Node(1)\n",
    "LList.head.next = Node(2)\n",
    "LList.head.next.next = Node(3)\n",
    "LList.head.next.next.next = Node(2)\n",
    "LList.head.next.next.next.next = Node(4)\n",
    "LList.head.next.next.next.next.next = Node(2)\n",
    "LList.head.next.next.next.next.next.next = Node(5)\n",
    "\n",
    "key = 2\n",
    "LList.head = deleteLastOccurrence(LList.head, key)\n",
    "\n",
    "current = LList.head\n",
    "while current is not None:\n",
    "    print(current.data, end=\" \")\n",
    "    current = current.next"
   ]
  },
  {
   "cell_type": "markdown",
   "id": "2d60a91b",
   "metadata": {},
   "source": [
    "<aside>\n",
    "💡 **Question 6**\n",
    "\n",
    "Given two sorted linked lists consisting of **N** and **M** nodes respectively. The task is to merge both of the lists (in place) and return the head of the merged list.\n",
    "\n",
    "</aside>"
   ]
  },
  {
   "cell_type": "code",
   "execution_count": 41,
   "id": "830edab6",
   "metadata": {},
   "outputs": [],
   "source": [
    "class Node:\n",
    "    def __init__(self,data):\n",
    "        self.data = data\n",
    "        self.next = None\n",
    "        \n",
    "class LinkedList:\n",
    "    def __init__(self):\n",
    "        self.head = None\n",
    "\n",
    "def mergeSortedLists(head1, head2):\n",
    "    # Handle empty lists\n",
    "    if head1 is None:\n",
    "        return head2\n",
    "    if head2 is None:\n",
    "        return head1\n",
    "\n",
    "    # Initialize dummy node and current node\n",
    "    dummy = Node(0)\n",
    "    current = dummy\n",
    "\n",
    "    # Merge the lists in place\n",
    "    while head1 is not None and head2 is not None:\n",
    "        if head1.data <= head2.data:\n",
    "            current.next = head1\n",
    "            head1 = head1.next\n",
    "        else:\n",
    "            current.next = head2\n",
    "            head2 = head2.next\n",
    "        current = current.next\n",
    "\n",
    "    # Append remaining nodes from the non-empty list\n",
    "    if head1 is not None:\n",
    "        current.next = head1\n",
    "    else:\n",
    "        current.next = head2\n",
    "\n",
    "    return dummy.next"
   ]
  },
  {
   "cell_type": "code",
   "execution_count": 43,
   "id": "1466e01d",
   "metadata": {},
   "outputs": [
    {
     "name": "stdout",
     "output_type": "stream",
     "text": [
      "1 2 3 4 5 6 "
     ]
    }
   ],
   "source": [
    "LList1 = LinkedList()\n",
    "LList1.head1 = Node(1)\n",
    "LList1.head1.next = Node(3)\n",
    "LList1.head1.next.next = Node(5)\n",
    "\n",
    "LList2 = LinkedList()\n",
    "LList2.head2 = Node(2)\n",
    "LList2.head2.next = Node(4)\n",
    "LList2.head2.next.next = Node(6)\n",
    "\n",
    "LList1.mergedHead = mergeSortedLists(LList1.head1, LList2.head2)\n",
    "\n",
    "current = LList1.mergedHead\n",
    "while current is not None:\n",
    "    print(current.data, end=\" \")\n",
    "    current = current.next"
   ]
  },
  {
   "cell_type": "markdown",
   "id": "90188d0f",
   "metadata": {},
   "source": [
    "<aside>\n",
    "💡 **Question 7**\n",
    "\n",
    "Given a **Doubly Linked List**, the task is to reverse the given Doubly Linked List.\n",
    "\n",
    "</aside>"
   ]
  },
  {
   "cell_type": "code",
   "execution_count": 44,
   "id": "8571dc87",
   "metadata": {},
   "outputs": [],
   "source": [
    "class Node:\n",
    "    def __init__(self, value):\n",
    "        self.value = value\n",
    "        self.prev = None\n",
    "        self.next = None\n",
    "\n",
    "def reverseDoublyLinkedList(head):\n",
    "    # Handle empty list or list with only one node\n",
    "    if head is None or head.next is None:\n",
    "        return head\n",
    "\n",
    "    current = head\n",
    "    prev = None\n",
    "\n",
    "    while current is not None:\n",
    "        next_node = current.next\n",
    "        current.next = prev\n",
    "        current.prev = next_node\n",
    "        prev = current\n",
    "        current = next_node\n",
    "\n",
    "    # Update the head to the last node\n",
    "    head = prev\n",
    "    head.prev = None\n",
    "\n",
    "    return head"
   ]
  },
  {
   "cell_type": "code",
   "execution_count": 45,
   "id": "0d3c446c",
   "metadata": {},
   "outputs": [
    {
     "name": "stdout",
     "output_type": "stream",
     "text": [
      "5 4 3 2 1 "
     ]
    }
   ],
   "source": [
    "head = Node(1)\n",
    "head.next = Node(2)\n",
    "head.next.prev = head\n",
    "head.next.next = Node(3)\n",
    "head.next.next.prev = head.next\n",
    "head.next.next.next = Node(4)\n",
    "head.next.next.next.prev = head.next.next\n",
    "head.next.next.next.next = Node(5)\n",
    "head.next.next.next.next.prev = head.next.next.next\n",
    "\n",
    "reversedHead = reverseDoublyLinkedList(head)\n",
    "\n",
    "current = reversedHead\n",
    "while current is not None:\n",
    "    print(current.value, end=\" \")\n",
    "    current = current.next"
   ]
  },
  {
   "cell_type": "markdown",
   "id": "9876b3c0",
   "metadata": {},
   "source": [
    "<aside>\n",
    "💡 **Question 8**\n",
    "\n",
    "Given a doubly linked list and a position. The task is to delete a node from given position in a doubly linked list.\n",
    "\n",
    "</aside>"
   ]
  },
  {
   "cell_type": "code",
   "execution_count": 48,
   "id": "16c6a715",
   "metadata": {},
   "outputs": [],
   "source": [
    "class Node:\n",
    "    def __init__(self, value):\n",
    "        self.value = value\n",
    "        self.prev = None\n",
    "        self.next = None\n",
    "\n",
    "def deleteNodeAtPosition(head, position):\n",
    "    # Handle empty list\n",
    "    if head is None:\n",
    "        return None\n",
    "\n",
    "    # Handle deletion at position 1 (head)\n",
    "    if position == 1:\n",
    "        head = head.next\n",
    "        if head is not None:\n",
    "            head.prev = None\n",
    "        return head\n",
    "\n",
    "    current = head\n",
    "    counter = 1\n",
    "\n",
    "    while current is not None and counter < position:\n",
    "        current = current.next\n",
    "        counter += 1\n",
    "\n",
    "    # Handle position out of range\n",
    "    if current is None:\n",
    "        return head\n",
    "\n",
    "    # Update adjacent nodes to bypass the node to be deleted\n",
    "    current.prev.next = current.next\n",
    "    if current.next is not None:\n",
    "        current.next.prev = current.prev\n",
    "\n",
    "    return head"
   ]
  },
  {
   "cell_type": "code",
   "execution_count": 49,
   "id": "e3ce14d5",
   "metadata": {},
   "outputs": [
    {
     "name": "stdout",
     "output_type": "stream",
     "text": [
      "1 2 4 5 "
     ]
    }
   ],
   "source": [
    "head = Node(1)\n",
    "head.next = Node(2)\n",
    "head.next.prev = head\n",
    "head.next.next = Node(3)\n",
    "head.next.next.prev = head.next\n",
    "head.next.next.next = Node(4)\n",
    "head.next.next.next.prev = head.next.next\n",
    "head.next.next.next.next = Node(5)\n",
    "head.next.next.next.next.prev = head.next.next.next\n",
    "\n",
    "position = 3\n",
    "head = deleteNodeAtPosition(head, position)\n",
    "current = head\n",
    "while current is not None:\n",
    "    print(current.value, end=\" \")\n",
    "    current = current.next"
   ]
  }
 ],
 "metadata": {
  "kernelspec": {
   "display_name": "Python 3 (ipykernel)",
   "language": "python",
   "name": "python3"
  },
  "language_info": {
   "codemirror_mode": {
    "name": "ipython",
    "version": 3
   },
   "file_extension": ".py",
   "mimetype": "text/x-python",
   "name": "python",
   "nbconvert_exporter": "python",
   "pygments_lexer": "ipython3",
   "version": "3.9.12"
  }
 },
 "nbformat": 4,
 "nbformat_minor": 5
}
