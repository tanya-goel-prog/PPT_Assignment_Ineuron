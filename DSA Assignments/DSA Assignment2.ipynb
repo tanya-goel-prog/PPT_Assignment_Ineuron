{
 "cells": [
  {
   "cell_type": "markdown",
   "id": "167778b0",
   "metadata": {},
   "source": [
    "<aside>\n",
    "💡 **Question 1**\n",
    "Given an integer array nums of 2n integers, group these integers into n pairs (a1, b1), (a2, b2),..., (an, bn) such that the sum of min(ai, bi) for all i is maximized. Return the maximized sum.\n",
    "\n",
    "**Example 1:**\n",
    "Input: nums = [1,4,3,2]\n",
    "Output: 4\n",
    "\n",
    "**Explanation:** All possible pairings (ignoring the ordering of elements) are:\n",
    "\n",
    "1. (1, 4), (2, 3) -> min(1, 4) + min(2, 3) = 1 + 2 = 3\n",
    "2. (1, 3), (2, 4) -> min(1, 3) + min(2, 4) = 1 + 2 = 3\n",
    "3. (1, 2), (3, 4) -> min(1, 2) + min(3, 4) = 1 + 3 = 4\n",
    "So the maximum possible sum is 4\n",
    "</aside>"
   ]
  },
  {
   "cell_type": "code",
   "execution_count": 2,
   "id": "2265492b",
   "metadata": {},
   "outputs": [],
   "source": [
    "from typing import List\n",
    "def arrayPairSum(nums: List[int]) -> int:\n",
    "    nums.sort()  # Sort the array in ascending order\n",
    "    max_sum = 0\n",
    "    for i in range(0, len(nums), 2):\n",
    "        max_sum += nums[i]\n",
    "    return max_sum\n"
   ]
  },
  {
   "cell_type": "code",
   "execution_count": 3,
   "id": "79e4a74f",
   "metadata": {},
   "outputs": [
    {
     "data": {
      "text/plain": [
       "4"
      ]
     },
     "execution_count": 3,
     "metadata": {},
     "output_type": "execute_result"
    }
   ],
   "source": [
    "a = [1,4,3,2]\n",
    "arrayPairSum(a)"
   ]
  },
  {
   "cell_type": "markdown",
   "id": "eb2bfe81",
   "metadata": {},
   "source": [
    "**Question 2**\n",
    "Alice has n candies, where the ith candy is of type candyType[i]. Alice noticed that she started to gain weight, so she visited a doctor. \n",
    "\n",
    "The doctor advised Alice to only eat n / 2 of the candies she has (n is always even). Alice likes her candies very much, and she wants to eat the maximum number of different types of candies while still following the doctor's advice. \n",
    "\n",
    "Given the integer array candyType of length n, return the maximum number of different types of candies she can eat if she only eats n / 2 of them.\n",
    "\n",
    "**Example 1:**\n",
    "Input: candyType = [1,1,2,2,3,3]\n",
    "Output: 3\n",
    "\n",
    "**Explanation:** Alice can only eat 6 / 2 = 3 candies. Since there are only 3 types, she can eat one of each type."
   ]
  },
  {
   "cell_type": "code",
   "execution_count": 4,
   "id": "ea1f5337",
   "metadata": {},
   "outputs": [],
   "source": [
    "def maxCandies(candyType: List[int]) -> int:\n",
    "    unique_types = len(set(candyType))  # Find the number of unique candy types\n",
    "    max_candies = min(len(candyType) // 2, unique_types)  # Calculate the maximum number of candy types Alice can eat \n",
    "    return max_candies\n"
   ]
  },
  {
   "cell_type": "code",
   "execution_count": 5,
   "id": "bc3f935a",
   "metadata": {},
   "outputs": [
    {
     "data": {
      "text/plain": [
       "5"
      ]
     },
     "execution_count": 5,
     "metadata": {},
     "output_type": "execute_result"
    }
   ],
   "source": [
    "a = [1,2,2,2,3,4,5,5,5,6]\n",
    "maxCandies(a)"
   ]
  },
  {
   "cell_type": "markdown",
   "id": "bc8983bf",
   "metadata": {},
   "source": [
    "**Question 3**\n",
    "We define a harmonious array as an array where the difference between its maximum value\n",
    "and its minimum value is exactly 1.\n",
    "\n",
    "Given an integer array nums, return the length of its longest harmonious subsequence\n",
    "among all its possible subsequences.\n",
    "\n",
    "A subsequence of an array is a sequence that can be derived from the array by deleting some or no elements without changing the order of the remaining elements.\n",
    "\n",
    "**Example 1:**\n",
    "Input: nums = [1,3,2,2,5,2,3,7]\n",
    "Output: 5\n",
    "\n",
    "**Explanation:** The longest harmonious subsequence is [3,2,2,2,3]."
   ]
  },
  {
   "cell_type": "code",
   "execution_count": 7,
   "id": "9e2d526f",
   "metadata": {},
   "outputs": [],
   "source": [
    "def findHS(nums: List[int]) -> int:\n",
    "    freq = {}\n",
    "    max_length = 0\n",
    "\n",
    "    for num in nums:\n",
    "        if num not in freq:\n",
    "            freq[num] = 0\n",
    "        freq[num] += 1\n",
    "\n",
    "    for num in nums:\n",
    "        if num + 1 in freq:\n",
    "            length = freq[num] + freq[num + 1]\n",
    "            max_length = max(max_length, length)\n",
    "\n",
    "    return max_length\n"
   ]
  },
  {
   "cell_type": "code",
   "execution_count": 8,
   "id": "f9b2f279",
   "metadata": {},
   "outputs": [
    {
     "data": {
      "text/plain": [
       "5"
      ]
     },
     "execution_count": 8,
     "metadata": {},
     "output_type": "execute_result"
    }
   ],
   "source": [
    "a = [1,3,2,2,5,2,3,7]\n",
    "findHS(a)"
   ]
  },
  {
   "cell_type": "markdown",
   "id": "e40a740b",
   "metadata": {},
   "source": [
    "**Question 4**\n",
    "You have a long flowerbed in which some of the plots are planted, and some are not.\n",
    "However, flowers cannot be planted in adjacent plots.\n",
    "Given an integer array flowerbed containing 0's and 1's, where 0 means empty and 1 means not empty, and an integer n, return true if n new flowers can be planted in the flowerbed without violating the no-adjacent-flowers rule and false otherwise.\n",
    "\n",
    "**Example 1:**\n",
    "**Input:** flowerbed = [1,0,0,0,1], n = 1\n",
    "**Output:** true"
   ]
  },
  {
   "cell_type": "code",
   "execution_count": 9,
   "id": "485456ba",
   "metadata": {},
   "outputs": [],
   "source": [
    "def canPlaceFlowers(flowerbed: List[int], n: int) -> int:\n",
    "    count = 0\n",
    "    length = len(flowerbed)\n",
    "    i = 0\n",
    "\n",
    "    while i < length:\n",
    "        if flowerbed[i] == 0 and (i == 0 or flowerbed[i - 1] == 0) and (i == length - 1 or flowerbed[i + 1] == 0):\n",
    "            flowerbed[i] = 1\n",
    "            count += 1\n",
    "            i += 2\n",
    "        else:\n",
    "            i += 1\n",
    "\n",
    "    return count >= n\n"
   ]
  },
  {
   "cell_type": "code",
   "execution_count": 10,
   "id": "a8972f5b",
   "metadata": {},
   "outputs": [
    {
     "data": {
      "text/plain": [
       "True"
      ]
     },
     "execution_count": 10,
     "metadata": {},
     "output_type": "execute_result"
    }
   ],
   "source": [
    "a = [1,0,0,0,1,0,0,1,0,0,0,1]\n",
    "canPlaceFlowers(a,2)"
   ]
  },
  {
   "cell_type": "markdown",
   "id": "a784560b",
   "metadata": {},
   "source": [
    "**Question 5**\n",
    "Given an integer array nums, find three numbers whose product is maximum and return the maximum product.\n",
    "\n",
    "**Example 1:**\n",
    "Input: nums = [1,2,3]\n",
    "Output: 6"
   ]
  },
  {
   "cell_type": "code",
   "execution_count": 11,
   "id": "393a370e",
   "metadata": {},
   "outputs": [],
   "source": [
    "def maximumProduct(nums: List[int]) -> int:\n",
    "    nums.sort()\n",
    "    n = len(nums)\n",
    "    \n",
    "    # Case 1: Three positive numbers\n",
    "    max_product1 = nums[n - 1] * nums[n - 2] * nums[n - 3]\n",
    "    \n",
    "    # Case 2: Two negative numbers and one positive number\n",
    "    max_product2 = nums[0] * nums[1] * nums[n - 1]\n",
    "    \n",
    "    return max(max_product1, max_product2)\n"
   ]
  },
  {
   "cell_type": "code",
   "execution_count": 14,
   "id": "31d77f3d",
   "metadata": {},
   "outputs": [
    {
     "data": {
      "text/plain": [
       "40"
      ]
     },
     "execution_count": 14,
     "metadata": {},
     "output_type": "execute_result"
    }
   ],
   "source": [
    "a = [-5,-4,0,2]\n",
    "maximumProduct(a)"
   ]
  },
  {
   "cell_type": "markdown",
   "id": "08363f0f",
   "metadata": {},
   "source": [
    "**Question 6**\n",
    "Given an array of integers nums which is sorted in ascending order, and an integer target,\n",
    "write a function to search target in nums. If target exists, then return its index. Otherwise,\n",
    "return -1.\n",
    "\n",
    "You must write an algorithm with O(log n) runtime complexity.\n",
    "\n",
    "Input: nums = [-1,0,3,5,9,12], target = 9\n",
    "Output: 4\n",
    "\n",
    "Explanation: 9 exists in nums and its index is 4"
   ]
  },
  {
   "cell_type": "code",
   "execution_count": 15,
   "id": "295d0e76",
   "metadata": {},
   "outputs": [],
   "source": [
    "def search(nums: List[int], target: int) -> int:\n",
    "    left = 0\n",
    "    right = len(nums) - 1\n",
    "    \n",
    "    while left <= right:\n",
    "        mid = (left + right) // 2\n",
    "        \n",
    "        if nums[mid] == target:\n",
    "            return mid\n",
    "        \n",
    "        if nums[mid] < target:\n",
    "            left = mid + 1\n",
    "        else:\n",
    "            right = mid - 1\n",
    "    \n",
    "    return -1"
   ]
  },
  {
   "cell_type": "code",
   "execution_count": 16,
   "id": "9a93972e",
   "metadata": {},
   "outputs": [
    {
     "data": {
      "text/plain": [
       "7"
      ]
     },
     "execution_count": 16,
     "metadata": {},
     "output_type": "execute_result"
    }
   ],
   "source": [
    "a = [1,2,3,4,5,7,8,9]\n",
    "search(a,9)"
   ]
  },
  {
   "cell_type": "markdown",
   "id": "ea0a561a",
   "metadata": {},
   "source": [
    "**Question 7**\n",
    "An array is monotonic if it is either monotone increasing or monotone decreasing.\n",
    "\n",
    "An array nums is monotone increasing if for all i <= j, nums[i] <= nums[j]. An array nums is\n",
    "monotone decreasing if for all i <= j, nums[i] >= nums[j].\n",
    "\n",
    "Given an integer array nums, return true if the given array is monotonic, or false otherwise.\n",
    "\n",
    "**Example 1:**\n",
    "Input: nums = [1,2,2,3]\n",
    "Output: true"
   ]
  },
  {
   "cell_type": "code",
   "execution_count": 17,
   "id": "f54de200",
   "metadata": {},
   "outputs": [],
   "source": [
    "def isMonotonic(nums: List[int]) -> bool:\n",
    "    n = len(nums)\n",
    "    if n <= 2:\n",
    "        return True\n",
    "    \n",
    "    direction = nums[-1] - nums[0]       #difference of first and last number to get the overall trend idea\n",
    "    \n",
    "    for i in range(1, n):\n",
    "        diff = nums[i] - nums[i - 1]\n",
    "        if (direction > 0 and diff < 0) or (direction < 0 and diff > 0):\n",
    "            return False\n",
    "    \n",
    "    return True"
   ]
  },
  {
   "cell_type": "code",
   "execution_count": 18,
   "id": "64038a37",
   "metadata": {},
   "outputs": [
    {
     "data": {
      "text/plain": [
       "False"
      ]
     },
     "execution_count": 18,
     "metadata": {},
     "output_type": "execute_result"
    }
   ],
   "source": [
    "a = [1,2,3,3,3,4,5,6,6,4]\n",
    "isMonotonic(a)"
   ]
  },
  {
   "cell_type": "markdown",
   "id": "12df7e81",
   "metadata": {},
   "source": [
    "**Question 8**\n",
    "You are given an integer array nums and an integer k.\n",
    "\n",
    "In one operation, you can choose any index i where 0 <= i < nums.length and change nums[i] to nums[i] + x where x is an integer from the range [-k, k]. You can apply this operation at most once for each index i.\n",
    "\n",
    "The score of nums is the difference between the maximum and minimum elements in nums.\n",
    "\n",
    "Return the minimum score of nums after applying the mentioned operation at most once for each index in it.\n",
    "\n",
    "Example 1:\n",
    "Input: nums = [1], k = 0\n",
    "Output: 0\n",
    "\n",
    "Explanation: The score is max(nums) - min(nums) = 1 - 1 = 0."
   ]
  },
  {
   "cell_type": "code",
   "execution_count": 21,
   "id": "4399579b",
   "metadata": {},
   "outputs": [],
   "source": [
    "def minimumScore(nums, k):\n",
    "    minimum = float('inf')\n",
    "    maximum = float('-inf')\n",
    "    \n",
    "    for num in nums:\n",
    "        minimum = min(minimum, num)\n",
    "        maximum = max(maximum, num)\n",
    "    \n",
    "    initial_score = maximum - minimum\n",
    "    \n",
    "    for i in range(len(nums)):\n",
    "        new_minimum = min(minimum, nums[i] + k)\n",
    "        new_maximum = max(maximum, nums[i] - k)\n",
    "        new_score = new_maximum - new_minimum\n",
    "        initial_score = min(initial_score, new_score)\n",
    "    \n",
    "    return initial_score\n"
   ]
  },
  {
   "cell_type": "code",
   "execution_count": 22,
   "id": "3efad1cc",
   "metadata": {},
   "outputs": [
    {
     "data": {
      "text/plain": [
       "0"
      ]
     },
     "execution_count": 22,
     "metadata": {},
     "output_type": "execute_result"
    }
   ],
   "source": [
    "a=[1]\n",
    "minimumScore(a,0)"
   ]
  },
  {
   "cell_type": "code",
   "execution_count": null,
   "id": "88b1ec06",
   "metadata": {},
   "outputs": [],
   "source": []
  }
 ],
 "metadata": {
  "kernelspec": {
   "display_name": "Python 3 (ipykernel)",
   "language": "python",
   "name": "python3"
  },
  "language_info": {
   "codemirror_mode": {
    "name": "ipython",
    "version": 3
   },
   "file_extension": ".py",
   "mimetype": "text/x-python",
   "name": "python",
   "nbconvert_exporter": "python",
   "pygments_lexer": "ipython3",
   "version": "3.9.12"
  }
 },
 "nbformat": 4,
 "nbformat_minor": 5
}
